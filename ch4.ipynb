{
  "nbformat": 4,
  "nbformat_minor": 0,
  "metadata": {
    "colab": {
      "name": "ch4.ipynb",
      "provenance": [],
      "collapsed_sections": [],
      "toc_visible": true,
      "include_colab_link": true
    },
    "kernelspec": {
      "name": "python3",
      "display_name": "Python 3"
    },
    "accelerator": "GPU"
  },
  "cells": [
    {
      "cell_type": "markdown",
      "metadata": {
        "id": "view-in-github",
        "colab_type": "text"
      },
      "source": [
        "<a href=\"https://colab.research.google.com/github/nienlinh/test/blob/master/ch4.ipynb\" target=\"_parent\"><img src=\"https://colab.research.google.com/assets/colab-badge.svg\" alt=\"Open In Colab\"/></a>"
      ]
    },
    {
      "cell_type": "markdown",
      "metadata": {
        "id": "XEV73jKs3hZ3"
      },
      "source": [
        "# Ch4"
      ]
    },
    {
      "cell_type": "markdown",
      "metadata": {
        "id": "rqfkrPj5ujTx"
      },
      "source": [
        "## 4.1 OJ 重新排序的身高\n",
        "現在有一個 data list，裡面的小到大排序的身高資料，現在轉入一位新同學，因此需要重新排序。\n",
        "\n",
        "```\n",
        "輸入範例\n",
        "161,165,166,171,180,191\n",
        "172\n",
        "輸出範例 \n",
        "161 165 166 171 172 180 191\n",
        "--\n",
        "輸入測資 \n",
        "148,158,162,163,165,173,176,179,183,188\n",
        "171\n",
        "輸出測資 \n",
        "148 158 162 163 165 171 173 176 179 183 188\n",
        "```"
      ]
    },
    {
      "cell_type": "code",
      "metadata": {
        "id": "-Wfx3stAubsm",
        "outputId": "ea89deac-e19b-4e03-9285-559fd9ebf9b7",
        "colab": {
          "base_uri": "https://localhost:8080/"
        }
      },
      "source": [
        "# tall_list = input().split(',')  \n",
        "# new_tall = eval(input()) \n",
        "# new_list = []\n",
        "# 以上勿改\n",
        "\n",
        "# testing data\n",
        "tall_list = '161,165,166,171,180,191'.split(',')  \n",
        "new_tall = 172 \n",
        "#　new_list = []\n",
        "\n",
        "new_list = tall_list[:]\n",
        "\n",
        "new_list.append(new_tall)\n",
        "\n",
        "# 逐一的變更型態\n",
        "# for index in range(len(new_list)):\n",
        "#   new_list[index] = int(new_list[index])\n",
        "\n",
        "# 等同於上面寫法\n",
        "# map 會將 new_list 中的元素轉換為 int\n",
        "# map(function, iterable)\n",
        "# 定義一個 function，接著用這個 function 來對後面的 iterable 內每一個元素做處理。\n",
        "new_list = list(map(int, new_list))\n",
        "\n",
        "new_list.sort()\n",
        "\n",
        "# 以下勿改\n",
        "for h in new_list:\n",
        "  print(h, end=' ')"
      ],
      "execution_count": null,
      "outputs": [
        {
          "output_type": "stream",
          "text": [
            "161 165 166 171 172 180 191 "
          ],
          "name": "stdout"
        }
      ]
    },
    {
      "cell_type": "markdown",
      "metadata": {
        "id": "yRV8NVe_wCwR"
      },
      "source": [
        "## 4.2 OJ  哪裡溫度高\n",
        "c 為一群攝氏溫度的 list, city 為相對的都市。\n",
        "\n",
        "請輸出華氏大於（含）100 的都市。\n",
        "\n",
        "\n",
        "```\n",
        "輸入範例 \n",
        "24 44 32 33 41\n",
        "taipei taichung pingdong tainan hsinchu\n",
        "\n",
        "輸出範例 \n",
        "taichung\n",
        "hsinchu\n",
        "--\n",
        "輸入測資\n",
        "55 26 32 18 22\n",
        "taipei taichung pingdong tainan hsinchu\n",
        "\n",
        "輸出測資\n",
        "taipei\n",
        "```"
      ]
    },
    {
      "cell_type": "code",
      "metadata": {
        "id": "giIJz1mcww1h",
        "outputId": "b38f5cf3-1588-413d-9c04-ae716c658cb6",
        "colab": {
          "base_uri": "https://localhost:8080/"
        }
      },
      "source": [
        "c = input().split()\n",
        "city = input().split()\n",
        "# 以上勿改\n",
        "\n",
        "# Write your code\n",
        "c2 = [int(i)*9/5 + 32 for i in c]\n",
        "\n",
        "# 等同於上面寫法\n",
        "c2 = []\n",
        "for i in c:\n",
        "  c2.append(int(i)*9/5 + 32)\n",
        "\n",
        "hot_city = []\n",
        "\n",
        "# enumerate(sequence, start=0)\n",
        "# 可以將 sequence 的內容，按照指定順序一一列出。\n",
        "# in sequence，是從sequence的內容，按照元素一一列出。\n",
        "for i, t in enumerate(c2):\n",
        "  if t > 100:\n",
        "     hot_city.append(city[i])\n",
        "     \n",
        "# 等同於上面寫法\n",
        "# for index in range(len(c2)):\n",
        "#   if c2[index] > 100:\n",
        "#     hot_city.append(city[index])\n",
        "\n",
        "\n",
        "# 以下勿改\n",
        "for hc in hot_city:\n",
        "  print(hc)"
      ],
      "execution_count": null,
      "outputs": [
        {
          "output_type": "stream",
          "text": [
            "24 44 32 33 41\n",
            "taipei taichung pingdong tainan hsinchu\n",
            "taichung\n",
            "hsinchu\n"
          ],
          "name": "stdout"
        }
      ]
    },
    {
      "cell_type": "markdown",
      "metadata": {
        "id": "bb5ECsJOw7mt"
      },
      "source": [
        "## 4.3 OJ 及格的學生\n",
        "names 為學生姓名的 list，eng, math, phy 為相對應的三科成績。\n",
        "\n",
        "請印出平均 >= 60 的學生姓名。（順序依據在 names 上的順序)\n",
        "\n",
        "\n",
        "```\n",
        "輸入範例 \n",
        "john nick albert jie\n",
        "12, 34, 45, 65\n",
        "32, 54, 65, 77\n",
        "45, 67, 100, 99\n",
        "\n",
        "輸出範例 \n",
        "albert jie\n",
        "--\n",
        "輸入測資\n",
        "mary joe evo robert\n",
        "25,17,40,45\n",
        "28,50,70,87\n",
        "90,60,95,40\n",
        "\n",
        "輸出測資\n",
        "evo\n",
        "```"
      ]
    },
    {
      "cell_type": "code",
      "metadata": {
        "id": "6ubcUBA1w1RW",
        "outputId": "64b8fda9-bcf9-479c-c456-d4522097c640",
        "colab": {
          "base_uri": "https://localhost:8080/"
        }
      },
      "source": [
        "names = input().split()\n",
        "eng = eval(input())\n",
        "math = eval(input())\n",
        "phy = eval(input())\n",
        "# 以上勿改\n",
        "\n",
        "# Write your code\n",
        "g_pass = []\n",
        "for i, name in enumerate(names):\n",
        " av = (eng[i] + math[i] + phy[i])/3\n",
        " if (av >= 60):\n",
        "   g_pass.append(names[i])\n",
        "\n",
        "# 以下勿改， g_pass 是有通過的學生的 list\n",
        "print (' '.join(g_pass))"
      ],
      "execution_count": null,
      "outputs": [
        {
          "output_type": "stream",
          "text": [
            "mary joe evo robert\n",
            "25,17,40,45\n",
            "28,50,70,87\n",
            "90,60,95,40\n",
            "evo\n"
          ],
          "name": "stdout"
        }
      ]
    },
    {
      "cell_type": "markdown",
      "metadata": {
        "id": "j42AWwrPyiei"
      },
      "source": [
        "## 4.4 OJ 高於平均的學生\n",
        "names 為學生姓名的 list，eng, math, phy 為相對應的三科成績。\n",
        "\n",
        "請印出每科都高於該科平均的學生姓名（順序依據在 names 上的順序)\n",
        "\n",
        "\n",
        "```\n",
        "輸入測資\n",
        "Ada Bella Cheryl Darlene\n",
        "12,34,45,65\n",
        "32,54,65,77\n",
        "45,67,100,99\n",
        "\n",
        "輸出測資\n",
        "Cheryl Darlene\n",
        "--\n",
        "輸入測資\n",
        "Lynn Mandy Renee Zara\n",
        "45,70,85,55\n",
        "19,85,65,36\n",
        "99,100,50,99\n",
        "\n",
        "輸出測資\n",
        "Mandy\n",
        "```\n"
      ]
    },
    {
      "cell_type": "code",
      "metadata": {
        "id": "OloZkCxjyfjQ",
        "outputId": "8141b73f-44dc-4eee-a7f5-f021eb36fd99",
        "colab": {
          "base_uri": "https://localhost:8080/"
        }
      },
      "source": [
        "# names = input().split()\n",
        "# eng = eval(input())\n",
        "# math = eval(input())\n",
        "# phy = eval(input())\n",
        "# 以上勿改\n",
        "\n",
        "# testing data\n",
        "names = 'Ada Bella Cheryl Darlene'.split()\n",
        "eng = eval('12,34,45,65')\n",
        "math = eval('32,54,65,77')\n",
        "phy = eval('45,67,100,99')\n",
        "\n",
        "# Write your code\n",
        "eng_av = sum(eng)/len(eng)\n",
        "math_av = sum(math)/len(math)\n",
        "phy_av = sum(phy)/len(phy)\n",
        "# print(eng_av,math_av,phy_av)\n",
        "\n",
        "g_good = []\n",
        "for i, name in enumerate(names):\n",
        "  higher_grade = (eng[i] >= eng_av and math[i] >= math_av and phy[i] >= phy_av)\n",
        "  if (higher_grade):\n",
        "    g_good.append(name)\n",
        "   \n",
        "# 以下勿改， g_good 是高於平均的姓名的 list\n",
        "print (' '.join(g_good))"
      ],
      "execution_count": null,
      "outputs": [
        {
          "output_type": "stream",
          "text": [
            "Cheryl Darlene\n"
          ],
          "name": "stdout"
        }
      ]
    },
    {
      "cell_type": "markdown",
      "metadata": {
        "id": "eM2saOJcxieT"
      },
      "source": [
        "## 4.5 OJ 去掉重複的\n",
        "\n",
        "一個字串裡面包含著重複的英文字母 (空白除外)，請印出這個字串出現的英文字母，並依字母由小到大排序。\n",
        "\n",
        "\n",
        "\n",
        "```\n",
        "輸入範例\n",
        "ajldjlajfdljfddd\n",
        "\n",
        "輸出範例\n",
        "adfjl\n",
        "--\n",
        "輸入範例\n",
        "fhdfhdfhdh\n",
        "\n",
        "輸出範例\n",
        "dfh\n",
        "--\n",
        "輸入測資\n",
        "dghsdhsdh\n",
        "\n",
        "輸出測資\n",
        "dghs\n",
        "--\n",
        "輸入測資\n",
        "zzzjzjjzjz\n",
        "\n",
        "輸出測資\n",
        "jz\n",
        "```\n"
      ]
    },
    {
      "cell_type": "code",
      "metadata": {
        "id": "03sjKX6Cz2q6",
        "outputId": "4c1ea88d-cabf-469e-880f-ee33f8215310",
        "colab": {
          "base_uri": "https://localhost:8080/"
        }
      },
      "source": [
        "s  = input() # 此行勿改 \n",
        "res = []  \n",
        "\n",
        "b = list(s) \n",
        "print (b)\n",
        "# sorted 排序之後，傳回一個排序好的新list。\n",
        "# set不會包含重複的資料。\n",
        "res = sorted(set(b)) \n",
        "\n",
        "for count in range(len(res)): \n",
        " print(res[count],end='') "
      ],
      "execution_count": null,
      "outputs": [
        {
          "output_type": "stream",
          "text": [
            "dcaaf\n",
            "['d', 'c', 'a', 'a', 'f']\n",
            "acdf"
          ],
          "name": "stdout"
        }
      ]
    },
    {
      "cell_type": "markdown",
      "metadata": {
        "id": "y6pztEfsz3NI"
      },
      "source": [
        "## 4.6 OJ 修課的學生\n",
        "\n",
        "c1, c2, c3 紀錄三門課的修課學生，共10位 (s1, s2... s10)，每位學生都有各自選的課程，請印出有選 0、1、2、3 門課的學生（排序由小到大印出）。 \n",
        "\n",
        "```\n",
        "輸入範例\n",
        "s1 s4 s7 s8\n",
        "s5 s1 s3 s6\n",
        "s7 s8 s9 s10\n",
        "\n",
        "輸出範例\n",
        "s2\n",
        "s3 s4 s5 s6 s9 s10\n",
        "s1 s7 s8\n",
        "-\n",
        "--\n",
        "輸入範例\n",
        "s2\n",
        "s1 s2 s3 s4 s5 s6 s7 s8 s9\n",
        "s5 s10\n",
        "\n",
        "輸出範例\n",
        "-\n",
        "s1 s3 s4 s6 s7 s8 s9 s10\n",
        "s2 s5\n",
        "-\n",
        "--\n",
        "輸入測資\n",
        "s2 s5 s8 s9\n",
        "s10 s6 s4 s5\n",
        "s2 s3 s4 s5\n",
        "\n",
        "輸出測資\n",
        "s1 s7\n",
        "s3 s6 s8 s9 s10\n",
        "s2 s4\n",
        "s5\n",
        "--\n",
        "輸入測資\n",
        "s1\n",
        "s1 s2 s3 s4 s5 s6 s7 s8 s9 s10\n",
        "s3\n",
        "\n",
        "輸出測資\n",
        "-\n",
        "s2 s4 s5 s6 s7 s8 s9 s10\n",
        "s1 s3\n",
        "-\n",
        "```"
      ]
    },
    {
      "cell_type": "code",
      "metadata": {
        "id": "rtbBttFW03HR",
        "outputId": "71ce6a58-a31d-489f-8025-970eb0cff044",
        "colab": {
          "base_uri": "https://localhost:8080/"
        }
      },
      "source": [
        "# List版本解答\n",
        "# c1 = input().split(' ')  # 此行勿改\n",
        "# c2 = input().split(' ')  # 此行勿改\n",
        "# c3 = input().split(' ')  # 此行勿改\n",
        "\n",
        "# testing data\n",
        "c1 = 's1 s4 s7 s8'.split(' ')\n",
        "c2 = 's5 s1 s3 s6'.split(' ')\n",
        "c3 = 's7 s8 s9 s10'.split(' ')\n",
        "\n",
        "courses = []\n",
        "courses.extend(c1)\n",
        "courses.extend(c2)\n",
        "courses.extend(c3)\n",
        "print (courses)\n",
        "\n",
        "students = ['s1', 's2', 's3', 's4', 's5', 's6', 's7', 's8', 's9', 's10']\n",
        "\n",
        "t0 = [s for s in students if courses.count(s) == 0]\n",
        "t1 = [s for s in students if courses.count(s) == 1]\n",
        "t2 = [s for s in students if courses.count(s) == 2]\n",
        "t3 = [s for s in students if courses.count(s) == 3]\n",
        "\n",
        "print('-' if len(t0) == 0 else ' '.join(t0))\n",
        "print('-' if len(t1) == 0 else ' '.join(t1))\n",
        "print('-' if len(t2) == 0 else ' '.join(t2))\n",
        "print('-' if len(t3) == 0 else ' '.join(t3))\n"
      ],
      "execution_count": null,
      "outputs": [
        {
          "output_type": "stream",
          "text": [
            "['s1', 's4', 's7', 's8', 's5', 's1', 's3', 's6', 's7', 's8', 's9', 's10']\n",
            "s2\n",
            "s3 s4 s5 s6 s9 s10\n",
            "s1 s7 s8\n",
            "-\n"
          ],
          "name": "stdout"
        }
      ]
    },
    {
      "cell_type": "code",
      "metadata": {
        "id": "Q1j6cXTxEiOa",
        "outputId": "2af2cc66-3d88-4f36-a89c-45e9b2ff1baa",
        "colab": {
          "base_uri": "https://localhost:8080/"
        }
      },
      "source": [
        "# Dict版本解答\n",
        "# c1 = input().split(' ')  # 此行勿改\n",
        "# c2 = input().split(' ')  # 此行勿改\n",
        "# c3 = input().split(' ')  # 此行勿改\n",
        "\n",
        "# testing data\n",
        "c1 = 's1 s4 s7 s8'.split(' ')\n",
        "c2 = 's5 s1 s3 s6'.split(' ')\n",
        "c3 = 's7 s8 s9 s10'.split(' ')\n",
        "\n",
        "courses = []\n",
        "courses.extend(c1)\n",
        "courses.extend(c2)\n",
        "courses.extend(c3)\n",
        "\n",
        "take_course = {\"s1\":0,\"s2\":0,\"s3\":0,\"s4\":0,\"s5\":0,\"s6\":0,\"s7\":0,\"s8\":0,\"s9\":0,\"s10\":0}\n",
        "\n",
        "t0 = []\n",
        "t1 = []\n",
        "t2 = []\n",
        "t3 = []\n",
        "\n",
        "for st in courses:\n",
        "  take_course[st] = take_course[st] + 1\n",
        "\n",
        "for st, course_cnt in take_course.items():\n",
        "  if(course_cnt==0): t0.append(st)\n",
        "  if(course_cnt==1): t1.append(st)\n",
        "  if(course_cnt==2): t2.append(st)\n",
        "  if(course_cnt==3): t3.append(st)\n",
        "\n",
        "print('-' if len(t0) == 0 else ' '.join(t0))\n",
        "print('-' if len(t1) == 0 else ' '.join(t1))\n",
        "print('-' if len(t2) == 0 else ' '.join(t2))\n",
        "print('-' if len(t3) == 0 else ' '.join(t3))"
      ],
      "execution_count": null,
      "outputs": [
        {
          "output_type": "stream",
          "text": [
            "s2\n",
            "s3 s4 s5 s6 s9 s10\n",
            "s1 s7 s8\n",
            "-\n"
          ],
          "name": "stdout"
        }
      ]
    },
    {
      "cell_type": "markdown",
      "metadata": {
        "id": "aD6U763n055X"
      },
      "source": [
        "## 4.7 OJ 誰的 BMI 最高\n",
        "\n",
        "health 紀錄一群人的身高與體重，如 {\"John\": {\"height\": 171, \"weight\": 50}, \"Nick\": {\"height\": 175, \"weight\": 65}}。\n",
        "\n",
        "請輸出 BMI 最高者的姓名。\n",
        "\n",
        "\n",
        "\n",
        "```\n",
        "輸入範例\n",
        "{\"John\": {\"height\": 171, \"weight\": 50}, \"Nick\": {\"height\": 175, \"weight\": 65}}\n",
        "\n",
        "輸出範例\n",
        "Nick\n",
        "--\n",
        "輸入測資\n",
        "{\"Mary\": {\"height\": 154, \"weight\": 40}, \"Nicolas\": {\"height\": 180, \"weight\": 85}, \"Nei\": {\"height\": 168, \"weight\": 55}, \"Gold\": {\"height\": 175, \"weight\": 75}}\n",
        "\n",
        "輸出測資\n",
        "Nicolas\n",
        "```"
      ]
    },
    {
      "cell_type": "code",
      "metadata": {
        "id": "SuHLyVhj1dI_",
        "outputId": "20238b22-e9ee-4ab5-8084-523d8295c285",
        "colab": {
          "base_uri": "https://localhost:8080/"
        }
      },
      "source": [
        "import json\n",
        "# health = json.loads(input())\n",
        "# 以上區塊勿改\n",
        "\n",
        "# testing data\n",
        "s = '{\"Mary\": {\"height\": 154, \"weight\": 40}, \\\n",
        "\"Nicolas\": {\"height\": 180, \"weight\": 85}, \\\n",
        "\"Nei\": {\"height\": 168, \"weight\": 55}, \\\n",
        "\"Gold\": {\"height\": 175, \"weight\": 75}}'\n",
        "\n",
        "health = json.loads(s)\n",
        "print (health)\n",
        "\n",
        "high_bmi = 0\n",
        "\n",
        "for name, h in health.items():\n",
        "  bmi = h['weight']/(h['height']/100)**2\n",
        "  print (name, bmi)\n",
        "  if (bmi > high_bmi):\n",
        "    high_bmi = bmi\n",
        "    r = name\n",
        "\n",
        "print (r)"
      ],
      "execution_count": null,
      "outputs": [
        {
          "output_type": "stream",
          "text": [
            "{'Mary': {'height': 154, 'weight': 40}, 'Nicolas': {'height': 180, 'weight': 85}, 'Nei': {'height': 168, 'weight': 55}, 'Gold': {'height': 175, 'weight': 75}}\n",
            "Mary 16.866250632484398\n",
            "Nicolas 26.234567901234566\n",
            "Nei 19.48696145124717\n",
            "Gold 24.489795918367346\n",
            "Nicolas\n"
          ],
          "name": "stdout"
        }
      ]
    },
    {
      "cell_type": "markdown",
      "metadata": {
        "id": "3dkSPlq71d_w"
      },
      "source": [
        "## 4.8 OJ 中英字典\n",
        "\n",
        "myDic 是應用 dict 建立一個英翻中的字典，例如 myDic = {\"dog\":\"狗\", \"cat\":\"貓\"}。依據此字典產生另一個 中翻英 的字典。讀入字典及一個中文，輸出其英文。\n",
        "\n",
        "\n",
        "\n",
        "```\n",
        "輸入範例\n",
        "{\"dog\":\"狗\", \"cat\":\"貓\"}\n",
        "狗\n",
        "\n",
        "輸出範例\n",
        "dog\n",
        "--\n",
        "輸入測資\n",
        "{\"seagull\":\"海鷗\", \"pigeon\":\"鴿子\", \"crane\":\"鶴\", \"eagle\":\"老鷹\", \"sparrow\":\"麻雀\"}\n",
        "海鷗\n",
        "\n",
        "輸出測資\n",
        "seagull\n",
        "--\n",
        "輸入測資\n",
        "{\"seagull\":\"海鷗\", \"pigeon\":\"鴿子\", \"crane\":\"鶴\", \"eagle\":\"老鷹\", \"sparrow\":\"麻雀\"}\n",
        "鴿子\n",
        "\n",
        "輸出測資\n",
        "pigeon\n",
        "```\n"
      ]
    },
    {
      "cell_type": "code",
      "metadata": {
        "id": "dFW_LrFS2Eml",
        "outputId": "904bd6c9-ff44-48fa-ee7d-7cc8dc45cd2b",
        "colab": {
          "base_uri": "https://localhost:8080/"
        }
      },
      "source": [
        "import json\n",
        "# myDic = json.loads(input()) \n",
        "# find = input()      # 要查詢的中文字\n",
        "# 以上區塊勿改\n",
        "\n",
        "s = '{\"seagull\":\"海鷗\", \\\n",
        "\"pigeon\":\"鴿子\", \"crane\":\"鶴\", \\\n",
        "\"eagle\":\"老鷹\", \"sparrow\":\"麻雀\"}'\n",
        "\n",
        "myDic = json.loads(s) \n",
        "find = '海鷗'         # 要查詢的中文字\n",
        "\n",
        "# Write Your Code\n",
        "for eng, ch in myDic.items():\n",
        " if(ch == find):\n",
        "   print(eng)"
      ],
      "execution_count": null,
      "outputs": [
        {
          "output_type": "stream",
          "text": [
            "seagull\n"
          ],
          "name": "stdout"
        }
      ]
    },
    {
      "cell_type": "code",
      "metadata": {
        "id": "VeK8x9nFTxL-"
      },
      "source": [
        ""
      ],
      "execution_count": null,
      "outputs": []
    }
  ]
}