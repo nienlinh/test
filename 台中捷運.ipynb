{
  "nbformat": 4,
  "nbformat_minor": 0,
  "metadata": {
    "colab": {
      "name": "台中捷運",
      "provenance": [],
      "collapsed_sections": [],
      "authorship_tag": "ABX9TyNnr3Zfa/8nFd7ts5+l2JjM",
      "include_colab_link": true
    },
    "kernelspec": {
      "name": "python3",
      "display_name": "Python 3"
    }
  },
  "cells": [
    {
      "cell_type": "markdown",
      "metadata": {
        "id": "view-in-github",
        "colab_type": "text"
      },
      "source": [
        "<a href=\"https://colab.research.google.com/github/nienlinh/test/blob/master/%E5%8F%B0%E4%B8%AD%E6%8D%B7%E9%81%8B.ipynb\" target=\"_parent\"><img src=\"https://colab.research.google.com/assets/colab-badge.svg\" alt=\"Open In Colab\"/></a>"
      ]
    },
    {
      "cell_type": "code",
      "metadata": {
        "id": "qMn7Wi8a0PpH",
        "outputId": "091e98c5-adfd-40a3-de15-081333266cf1",
        "colab": {
          "base_uri": "https://localhost:8080/"
        }
      },
      "source": [
        "\n",
        "s = '北屯總站 103a, 舊社 103, 松竹 104, 四維國小 105, 文心崇德 106, 文心中清 107, \\\n",
        "文華高中 108, 文心櫻花 109, 市政府 110, 水安宮 111, 文心森林公園 112, 南屯 113, \\\n",
        "豐樂公園 114, 大慶 115, 九張犁 116, 九德 117, 烏日 118, 高鐵臺中站 119'\n",
        "\n",
        "station = s.split(',')\n",
        "station_name = {}\n",
        "for s in station:\n",
        "  name = s.split()[0]\n",
        "  sid = s.split()[1]\n",
        "  station_name[name] = sid\n",
        "\n",
        "station_list = list(station_name.keys())  \n",
        "# print (station_name)\n",
        "\n",
        "price_map = \\\n",
        "[ \n",
        "[20], \n",
        "[20, 20], \n",
        "[20, 20, 20], \n",
        "[20, 20, 20, 20], \n",
        "[25, 20, 20, 20, 20], \n",
        "[25, 25, 20, 20, 20, 20], \n",
        "[30, 25, 25, 20, 20, 20, 20],\n",
        "[30, 30, 25, 20, 20, 20, 20, 20],\n",
        "[35, 30, 30, 25, 25, 20, 20, 20, 20],\n",
        "[35, 35, 30, 25, 25, 20, 20, 20, 20, 20],\n",
        "[35, 35, 35, 30, 25, 25, 20, 20, 20, 20, 20],\n",
        "[40, 35, 35, 30, 30, 25, 20, 20, 20, 20, 20, 20],\n",
        "[45, 40, 40, 35, 35, 30, 25, 25, 20, 20, 20, 20, 20],\n",
        "[45, 45, 40, 35, 35, 30, 30, 25, 25, 20, 20, 20, 20, 20],\n",
        "[45, 45, 45, 40, 35, 35, 30, 30, 25, 25, 20, 20, 20, 20, 20],\n",
        "[50, 45, 45, 40, 40, 35, 35, 30, 30, 25, 25, 25, 20, 20, 20, 20],\n",
        "[50, 50, 50, 45, 40, 40, 35, 35, 30, 30, 25, 25, 25, 20, 20, 20, 20]]\n",
        "\n",
        "# print (price_map)\n",
        "\n",
        "price = {}\n",
        "# for i, s1 in enumerate(station_list):\n",
        "#   for j, s2 in enumerate(station_list):\n",
        "#     price[(s1, s2)] = price_map[i][j]\n",
        "\n",
        "station_len = len(station_list)\n",
        "for i in range(station_len-1):\n",
        "  for j in range(i, station_len-1):\n",
        "    price[(station_list[i], station_list[j+1])] = price_map[j][i]\n",
        "    price[(station_list[j+1], station_list[i])] = price_map[j][i]    \n",
        "# print (price)    \n",
        "\n",
        "# for i in station_list:\n",
        "#   for j in station_list:\n",
        "#     if i != j:\n",
        "#       print ('{} to {}: {}'.format(i, j, price[(i, j)]))\n",
        "\n",
        "def print_station():\n",
        "  for i, s in enumerate(station_list):\n",
        "    if (i+1) % 2 == 1: \n",
        "      print ('({}): {}'.format(i, s), end='\\t\\t\\t')\n",
        "    else:  \n",
        "      print ('({}): {}'.format(i, s))\n",
        "\n",
        "print_station()\n",
        "s1 = input('From the station (x to stop): ')\n",
        "while (s1 != 'x'):\n",
        "  s1 = station_list[int(s1)]\n",
        "  s2 = input('To the station: ')\n",
        "  s2 = station_list[int(s2)]\n",
        "  print ('\\n{} to {}: {}'.format(s1, s2, price[(s1, s2)]))\n",
        "  s1 = input('\\nFrom the station  (x to stop): ')\n",
        "\n"
      ],
      "execution_count": null,
      "outputs": [
        {
          "output_type": "stream",
          "text": [
            "(0): 北屯總站\t\t\t(1): 舊社\n",
            "(2): 松竹\t\t\t(3): 四維國小\n",
            "(4): 文心崇德\t\t\t(5): 文心中清\n",
            "(6): 文華高中\t\t\t(7): 文心櫻花\n",
            "(8): 市政府\t\t\t(9): 水安宮\n",
            "(10): 文心森林公園\t\t\t(11): 南屯\n",
            "(12): 豐樂公園\t\t\t(13): 大慶\n",
            "(14): 九張犁\t\t\t(15): 九德\n",
            "(16): 烏日\t\t\t(17): 高鐵臺中站\n",
            "From the station (x to stop): 17\n",
            "To the station: 7\n",
            "\n",
            "高鐵臺中站 to 文心櫻花: 35\n",
            "\n",
            "From the station  (x to stop): x\n"
          ],
          "name": "stdout"
        }
      ]
    },
    {
      "cell_type": "code",
      "metadata": {
        "id": "aRihPSm0BYxb"
      },
      "source": [
        "|"
      ],
      "execution_count": null,
      "outputs": []
    }
  ]
}